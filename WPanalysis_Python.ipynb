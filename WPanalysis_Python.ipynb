{
 "cells": [
  {
   "cell_type": "code",
   "execution_count": null,
   "metadata": {},
   "outputs": [],
   "source": []
  },
  {
   "cell_type": "code",
   "execution_count": 1,
   "metadata": {},
   "outputs": [
    {
     "name": "stdout",
     "output_type": "stream",
     "text": [
      "airlines, rows, columns, missings: 1665 3 0\n",
      "airports, rows, columns, missings: 6520 3 1\n",
      "ny_flights, rows, columns, missings: 825413 23 218880\n",
      "cities, rows, columns, missings: 5898 2 0\n"
     ]
    }
   ],
   "source": [
    "#Data prep;   \n",
    "import pandas as pd      \n",
    "pd.options.display.max_columns = None    \n",
    "\n",
    "#(1) data prep;    \n",
    "import sqlite3      \n",
    "conn = sqlite3.connect('flights.sqlite')   \n",
    "\n",
    "airlines = pd.read_sql_query(\"SELECT * FROM airlines\", conn)\n",
    "airports = pd.read_sql_query(\"SELECT * FROM airports\", conn)\n",
    "ny_flights = pd.read_sql_query(\"SELECT * FROM ny_flights\", conn)    \n",
    "cities = pd.read_sql_query(\"SELECT * FROM cities\", conn)\n",
    "\n",
    "print('airlines, rows, columns, missings:', len(airlines), len(airlines.columns), airlines.isnull().sum().sum())\n",
    "print('airports, rows, columns, missings:', len(airports), len(airports.columns), airports.isnull().sum().sum())\n",
    "print('ny_flights, rows, columns, missings:', len(ny_flights), len(ny_flights.columns), ny_flights.isnull().sum().sum())\n",
    "print('cities, rows, columns, missings:', len(cities), len(cities.columns), cities.isnull().sum().sum())  "
   ]
  },
  {
   "cell_type": "code",
   "execution_count": 2,
   "metadata": {},
   "outputs": [
    {
     "data": {
      "text/html": [
       "<div>\n",
       "<style scoped>\n",
       "    .dataframe tbody tr th:only-of-type {\n",
       "        vertical-align: middle;\n",
       "    }\n",
       "\n",
       "    .dataframe tbody tr th {\n",
       "        vertical-align: top;\n",
       "    }\n",
       "\n",
       "    .dataframe thead th {\n",
       "        text-align: right;\n",
       "    }\n",
       "</style>\n",
       "<table border=\"1\" class=\"dataframe\">\n",
       "  <thead>\n",
       "    <tr style=\"text-align: right;\">\n",
       "      <th></th>\n",
       "      <th>fl_date</th>\n",
       "      <th>op_carrier_airline_id</th>\n",
       "      <th>op_carrier_fl_num</th>\n",
       "      <th>origin_airport_id</th>\n",
       "      <th>origin_city_market_id</th>\n",
       "      <th>dest_airport_id</th>\n",
       "      <th>dest_city_market_id</th>\n",
       "      <th>crs_dep_time</th>\n",
       "      <th>dep_time</th>\n",
       "      <th>dep_delay</th>\n",
       "      <th>taxi_out</th>\n",
       "      <th>wheels_off</th>\n",
       "      <th>wheels_on</th>\n",
       "      <th>taxi_in</th>\n",
       "      <th>crs_arr_time</th>\n",
       "      <th>arr_time</th>\n",
       "      <th>arr_delay</th>\n",
       "      <th>cancelled</th>\n",
       "      <th>diverted</th>\n",
       "      <th>crs_elapsed_time</th>\n",
       "      <th>actual_elapsed_time</th>\n",
       "      <th>air_time</th>\n",
       "      <th>distance</th>\n",
       "    </tr>\n",
       "  </thead>\n",
       "  <tbody>\n",
       "    <tr>\n",
       "      <td>0</td>\n",
       "      <td>False</td>\n",
       "      <td>False</td>\n",
       "      <td>False</td>\n",
       "      <td>False</td>\n",
       "      <td>False</td>\n",
       "      <td>False</td>\n",
       "      <td>False</td>\n",
       "      <td>False</td>\n",
       "      <td>True</td>\n",
       "      <td>True</td>\n",
       "      <td>True</td>\n",
       "      <td>True</td>\n",
       "      <td>True</td>\n",
       "      <td>True</td>\n",
       "      <td>False</td>\n",
       "      <td>True</td>\n",
       "      <td>True</td>\n",
       "      <td>False</td>\n",
       "      <td>False</td>\n",
       "      <td>False</td>\n",
       "      <td>True</td>\n",
       "      <td>True</td>\n",
       "      <td>False</td>\n",
       "    </tr>\n",
       "    <tr>\n",
       "      <td>1</td>\n",
       "      <td>False</td>\n",
       "      <td>False</td>\n",
       "      <td>False</td>\n",
       "      <td>False</td>\n",
       "      <td>False</td>\n",
       "      <td>False</td>\n",
       "      <td>False</td>\n",
       "      <td>False</td>\n",
       "      <td>False</td>\n",
       "      <td>False</td>\n",
       "      <td>False</td>\n",
       "      <td>False</td>\n",
       "      <td>False</td>\n",
       "      <td>False</td>\n",
       "      <td>False</td>\n",
       "      <td>False</td>\n",
       "      <td>False</td>\n",
       "      <td>False</td>\n",
       "      <td>False</td>\n",
       "      <td>False</td>\n",
       "      <td>False</td>\n",
       "      <td>False</td>\n",
       "      <td>False</td>\n",
       "    </tr>\n",
       "    <tr>\n",
       "      <td>2</td>\n",
       "      <td>False</td>\n",
       "      <td>False</td>\n",
       "      <td>False</td>\n",
       "      <td>False</td>\n",
       "      <td>False</td>\n",
       "      <td>False</td>\n",
       "      <td>False</td>\n",
       "      <td>False</td>\n",
       "      <td>False</td>\n",
       "      <td>False</td>\n",
       "      <td>False</td>\n",
       "      <td>False</td>\n",
       "      <td>False</td>\n",
       "      <td>False</td>\n",
       "      <td>False</td>\n",
       "      <td>False</td>\n",
       "      <td>False</td>\n",
       "      <td>False</td>\n",
       "      <td>False</td>\n",
       "      <td>False</td>\n",
       "      <td>False</td>\n",
       "      <td>False</td>\n",
       "      <td>False</td>\n",
       "    </tr>\n",
       "    <tr>\n",
       "      <td>3</td>\n",
       "      <td>False</td>\n",
       "      <td>False</td>\n",
       "      <td>False</td>\n",
       "      <td>False</td>\n",
       "      <td>False</td>\n",
       "      <td>False</td>\n",
       "      <td>False</td>\n",
       "      <td>False</td>\n",
       "      <td>False</td>\n",
       "      <td>False</td>\n",
       "      <td>False</td>\n",
       "      <td>False</td>\n",
       "      <td>False</td>\n",
       "      <td>False</td>\n",
       "      <td>False</td>\n",
       "      <td>False</td>\n",
       "      <td>False</td>\n",
       "      <td>False</td>\n",
       "      <td>False</td>\n",
       "      <td>False</td>\n",
       "      <td>False</td>\n",
       "      <td>False</td>\n",
       "      <td>False</td>\n",
       "    </tr>\n",
       "    <tr>\n",
       "      <td>4</td>\n",
       "      <td>False</td>\n",
       "      <td>False</td>\n",
       "      <td>False</td>\n",
       "      <td>False</td>\n",
       "      <td>False</td>\n",
       "      <td>False</td>\n",
       "      <td>False</td>\n",
       "      <td>False</td>\n",
       "      <td>False</td>\n",
       "      <td>False</td>\n",
       "      <td>False</td>\n",
       "      <td>False</td>\n",
       "      <td>False</td>\n",
       "      <td>False</td>\n",
       "      <td>False</td>\n",
       "      <td>False</td>\n",
       "      <td>False</td>\n",
       "      <td>False</td>\n",
       "      <td>False</td>\n",
       "      <td>False</td>\n",
       "      <td>False</td>\n",
       "      <td>False</td>\n",
       "      <td>False</td>\n",
       "    </tr>\n",
       "    <tr>\n",
       "      <td>...</td>\n",
       "      <td>...</td>\n",
       "      <td>...</td>\n",
       "      <td>...</td>\n",
       "      <td>...</td>\n",
       "      <td>...</td>\n",
       "      <td>...</td>\n",
       "      <td>...</td>\n",
       "      <td>...</td>\n",
       "      <td>...</td>\n",
       "      <td>...</td>\n",
       "      <td>...</td>\n",
       "      <td>...</td>\n",
       "      <td>...</td>\n",
       "      <td>...</td>\n",
       "      <td>...</td>\n",
       "      <td>...</td>\n",
       "      <td>...</td>\n",
       "      <td>...</td>\n",
       "      <td>...</td>\n",
       "      <td>...</td>\n",
       "      <td>...</td>\n",
       "      <td>...</td>\n",
       "      <td>...</td>\n",
       "    </tr>\n",
       "    <tr>\n",
       "      <td>825408</td>\n",
       "      <td>False</td>\n",
       "      <td>False</td>\n",
       "      <td>False</td>\n",
       "      <td>False</td>\n",
       "      <td>False</td>\n",
       "      <td>False</td>\n",
       "      <td>False</td>\n",
       "      <td>False</td>\n",
       "      <td>False</td>\n",
       "      <td>False</td>\n",
       "      <td>False</td>\n",
       "      <td>False</td>\n",
       "      <td>False</td>\n",
       "      <td>False</td>\n",
       "      <td>False</td>\n",
       "      <td>False</td>\n",
       "      <td>False</td>\n",
       "      <td>False</td>\n",
       "      <td>False</td>\n",
       "      <td>False</td>\n",
       "      <td>False</td>\n",
       "      <td>False</td>\n",
       "      <td>False</td>\n",
       "    </tr>\n",
       "    <tr>\n",
       "      <td>825409</td>\n",
       "      <td>False</td>\n",
       "      <td>False</td>\n",
       "      <td>False</td>\n",
       "      <td>False</td>\n",
       "      <td>False</td>\n",
       "      <td>False</td>\n",
       "      <td>False</td>\n",
       "      <td>False</td>\n",
       "      <td>False</td>\n",
       "      <td>False</td>\n",
       "      <td>False</td>\n",
       "      <td>False</td>\n",
       "      <td>False</td>\n",
       "      <td>False</td>\n",
       "      <td>False</td>\n",
       "      <td>False</td>\n",
       "      <td>False</td>\n",
       "      <td>False</td>\n",
       "      <td>False</td>\n",
       "      <td>False</td>\n",
       "      <td>False</td>\n",
       "      <td>False</td>\n",
       "      <td>False</td>\n",
       "    </tr>\n",
       "    <tr>\n",
       "      <td>825410</td>\n",
       "      <td>False</td>\n",
       "      <td>False</td>\n",
       "      <td>False</td>\n",
       "      <td>False</td>\n",
       "      <td>False</td>\n",
       "      <td>False</td>\n",
       "      <td>False</td>\n",
       "      <td>False</td>\n",
       "      <td>False</td>\n",
       "      <td>False</td>\n",
       "      <td>False</td>\n",
       "      <td>False</td>\n",
       "      <td>False</td>\n",
       "      <td>False</td>\n",
       "      <td>False</td>\n",
       "      <td>False</td>\n",
       "      <td>False</td>\n",
       "      <td>False</td>\n",
       "      <td>False</td>\n",
       "      <td>False</td>\n",
       "      <td>False</td>\n",
       "      <td>False</td>\n",
       "      <td>False</td>\n",
       "    </tr>\n",
       "    <tr>\n",
       "      <td>825411</td>\n",
       "      <td>False</td>\n",
       "      <td>False</td>\n",
       "      <td>False</td>\n",
       "      <td>False</td>\n",
       "      <td>False</td>\n",
       "      <td>False</td>\n",
       "      <td>False</td>\n",
       "      <td>False</td>\n",
       "      <td>False</td>\n",
       "      <td>False</td>\n",
       "      <td>False</td>\n",
       "      <td>False</td>\n",
       "      <td>False</td>\n",
       "      <td>False</td>\n",
       "      <td>False</td>\n",
       "      <td>False</td>\n",
       "      <td>False</td>\n",
       "      <td>False</td>\n",
       "      <td>False</td>\n",
       "      <td>False</td>\n",
       "      <td>False</td>\n",
       "      <td>False</td>\n",
       "      <td>False</td>\n",
       "    </tr>\n",
       "    <tr>\n",
       "      <td>825412</td>\n",
       "      <td>False</td>\n",
       "      <td>False</td>\n",
       "      <td>False</td>\n",
       "      <td>False</td>\n",
       "      <td>False</td>\n",
       "      <td>False</td>\n",
       "      <td>False</td>\n",
       "      <td>False</td>\n",
       "      <td>False</td>\n",
       "      <td>False</td>\n",
       "      <td>False</td>\n",
       "      <td>False</td>\n",
       "      <td>False</td>\n",
       "      <td>False</td>\n",
       "      <td>False</td>\n",
       "      <td>False</td>\n",
       "      <td>False</td>\n",
       "      <td>False</td>\n",
       "      <td>False</td>\n",
       "      <td>False</td>\n",
       "      <td>False</td>\n",
       "      <td>False</td>\n",
       "      <td>False</td>\n",
       "    </tr>\n",
       "  </tbody>\n",
       "</table>\n",
       "<p>825413 rows × 23 columns</p>\n",
       "</div>"
      ],
      "text/plain": [
       "        fl_date  op_carrier_airline_id  op_carrier_fl_num  origin_airport_id  \\\n",
       "0         False                  False              False              False   \n",
       "1         False                  False              False              False   \n",
       "2         False                  False              False              False   \n",
       "3         False                  False              False              False   \n",
       "4         False                  False              False              False   \n",
       "...         ...                    ...                ...                ...   \n",
       "825408    False                  False              False              False   \n",
       "825409    False                  False              False              False   \n",
       "825410    False                  False              False              False   \n",
       "825411    False                  False              False              False   \n",
       "825412    False                  False              False              False   \n",
       "\n",
       "        origin_city_market_id  dest_airport_id  dest_city_market_id  \\\n",
       "0                       False            False                False   \n",
       "1                       False            False                False   \n",
       "2                       False            False                False   \n",
       "3                       False            False                False   \n",
       "4                       False            False                False   \n",
       "...                       ...              ...                  ...   \n",
       "825408                  False            False                False   \n",
       "825409                  False            False                False   \n",
       "825410                  False            False                False   \n",
       "825411                  False            False                False   \n",
       "825412                  False            False                False   \n",
       "\n",
       "        crs_dep_time  dep_time  dep_delay  taxi_out  wheels_off  wheels_on  \\\n",
       "0              False      True       True      True        True       True   \n",
       "1              False     False      False     False       False      False   \n",
       "2              False     False      False     False       False      False   \n",
       "3              False     False      False     False       False      False   \n",
       "4              False     False      False     False       False      False   \n",
       "...              ...       ...        ...       ...         ...        ...   \n",
       "825408         False     False      False     False       False      False   \n",
       "825409         False     False      False     False       False      False   \n",
       "825410         False     False      False     False       False      False   \n",
       "825411         False     False      False     False       False      False   \n",
       "825412         False     False      False     False       False      False   \n",
       "\n",
       "        taxi_in  crs_arr_time  arr_time  arr_delay  cancelled  diverted  \\\n",
       "0          True         False      True       True      False     False   \n",
       "1         False         False     False      False      False     False   \n",
       "2         False         False     False      False      False     False   \n",
       "3         False         False     False      False      False     False   \n",
       "4         False         False     False      False      False     False   \n",
       "...         ...           ...       ...        ...        ...       ...   \n",
       "825408    False         False     False      False      False     False   \n",
       "825409    False         False     False      False      False     False   \n",
       "825410    False         False     False      False      False     False   \n",
       "825411    False         False     False      False      False     False   \n",
       "825412    False         False     False      False      False     False   \n",
       "\n",
       "        crs_elapsed_time  actual_elapsed_time  air_time  distance  \n",
       "0                  False                 True      True     False  \n",
       "1                  False                False     False     False  \n",
       "2                  False                False     False     False  \n",
       "3                  False                False     False     False  \n",
       "4                  False                False     False     False  \n",
       "...                  ...                  ...       ...       ...  \n",
       "825408             False                False     False     False  \n",
       "825409             False                False     False     False  \n",
       "825410             False                False     False     False  \n",
       "825411             False                False     False     False  \n",
       "825412             False                False     False     False  \n",
       "\n",
       "[825413 rows x 23 columns]"
      ]
     },
     "execution_count": 2,
     "metadata": {},
     "output_type": "execute_result"
    }
   ],
   "source": [
    "ny_flights.isnull()"
   ]
  },
  {
   "cell_type": "code",
   "execution_count": 2,
   "metadata": {},
   "outputs": [
    {
     "name": "stdout",
     "output_type": "stream",
     "text": [
      "           id         location               airport_name\n",
      "2765  12892.0  Los Angeles, CA  Los Angeles International\n",
      "           id           location                 airport_name\n",
      "4549  14771.0  San Francisco, CA  San Francisco International\n",
      "           id      location                    airport_name\n",
      "951   10986.0   Chicago, IL       Chicago Metropolitan Area\n",
      "3098  13232.0   Chicago, IL    Chicago Midway International\n",
      "3770  13930.0   Chicago, IL    Chicago O'Hare International\n",
      "4151  14320.0   Chicago, IL               Chicago Executive\n",
      "4295  14512.0  Rockford, IL  Chicago/Rockford International\n",
      "           id    location                  airport_name\n",
      "1552  11618.0  Newark, NJ  Newark Liberty International\n",
      "           id      location                   airport_name\n",
      "2381  12478.0  New York, NY  John F. Kennedy International\n",
      "           id      location airport_name\n",
      "2824  12953.0  New York, NY    LaGuardia\n"
     ]
    }
   ],
   "source": [
    "#(1-2) Extract airport IDs;\n",
    "'''\n",
    "LA airports: LAX, SNA, BUR, LGB\n",
    "SF airports: SFO, SJC, OAK\n",
    "NY airports: LGA, JFK, EWR\n",
    "'''  \n",
    "print(airports.loc[(airports['location'].str.contains('CA')) & (airports['airport_name'].str.contains('Los Angeles')), :])\n",
    "print(airports.loc[(airports['location'].str.contains('CA')) & (airports['airport_name'].str.contains('San Francisco')), :])\n",
    "print(airports.loc[(airports['location'].str.contains('IL')) & (airports['airport_name'].str.contains('Chicago')), :])\n",
    "\n",
    "print(airports.loc[(airports['location'].str.contains('NJ')) & (airports['airport_name'].str.contains('Newark')), :])\n",
    "print(airports.loc[(airports['location'].str.contains('NY')) & (airports['airport_name'].str.contains('Kennedy')), :])\n",
    "print(airports.loc[(airports['location'].str.contains('NY')) & (airports['airport_name'].str.contains('LaGuardia')), :])"
   ]
  },
  {
   "cell_type": "code",
   "execution_count": 6,
   "metadata": {},
   "outputs": [],
   "source": [
    "##Convert to CSV; \n",
    "# ny_flights.to_csv('ny_flights.csv', index=False)\n",
    "# airlines.to_csv('airlines.csv', index=False)  "
   ]
  },
  {
   "cell_type": "code",
   "execution_count": 3,
   "metadata": {},
   "outputs": [],
   "source": [
    "#(1-3) clean & add features to to ny_flight;  \n",
    "#filter;\n",
    "ny_flights=ny_flights.loc[(ny_flights['cancelled']==0) & (ny_flights['diverted']==0), :]\n",
    "\n",
    "#city names;\n",
    "cities.drop_duplicates(inplace=True)    \n",
    "cities_dic=dict(zip(cities.id, cities.city))  \n",
    "ny_flights['origin_city_market']=ny_flights['origin_city_market_id'].apply(lambda x: cities_dic[x])\n",
    "ny_flights['dest_city_market']=ny_flights['dest_city_market_id'].apply(lambda x: cities_dic[x])  \n",
    "\n",
    "#airline names;\n",
    "airlines_dic=dict(zip(airlines.id, airlines.airline_name))  \n",
    "ny_flights['op_carrier_airline_nm']=ny_flights['op_carrier_airline_id'].apply(lambda x: airlines_dic[x])\n",
    "\n",
    "#airport names;\n",
    "airports_dic=dict(zip(airports.id, airports.airport_name))\n",
    "ny_flights['origin_airport_nm']=ny_flights['origin_airport_id'].apply(lambda x: airports_dic[x])\n",
    "ny_flights['dest_airport_nm']=ny_flights['dest_airport_id'].apply(lambda x: airports_dic[x])\n",
    "\n",
    "#date features;    \n",
    "import time\n",
    "import datetime\n",
    "ny_flights['fl_wkday']=ny_flights['fl_date'].apply(lambda x: datetime.datetime.strptime(x, \"%Y-%m-%d\").weekday())\n",
    "\n",
    "date_dic={0: 'Mon', 1:'Tue', 2:'Wed', 3:'Thu', 4:'Fri', 5:'Sat', 6:'Sun'}\n",
    "ny_flights['fl_weekday']=ny_flights['fl_wkday'].apply(lambda x: date_dic[x])\n",
    "ny_flights.drop('fl_wkday', axis=1, inplace=True)\n",
    "\n",
    "ny_flights['fl_yr']=ny_flights['fl_date'].apply(lambda x: x.split('-')[0])\n",
    "ny_flights['fl_mon']=ny_flights['fl_date'].apply(lambda x: x.split('-')[1])      "
   ]
  },
  {
   "cell_type": "code",
   "execution_count": 4,
   "metadata": {},
   "outputs": [
    {
     "name": "stdout",
     "output_type": "stream",
     "text": [
      "12953.0    15932\n",
      "12478.0     3055\n",
      "Name: origin_airport_id, dtype: int64\n"
     ]
    },
    {
     "data": {
      "text/plain": [
       "\"\\nOnly Chicago O'Hare airport found routes with flights from 2 NY airports.\\nOther destination airports such as LAX or SFO found flights from only 1 NY airport.\\nDue to data limitation, will focus on NY-> O'Hare.   \\n\""
      ]
     },
     "execution_count": 4,
     "metadata": {},
     "output_type": "execute_result"
    }
   ],
   "source": [
    "##Question 1;  \n",
    "#(2) Define the route:  \n",
    "orig_arpts=[12953, 12478, 11618]  \n",
    "dest_arpts=[13930]    \n",
    "\n",
    "routes=ny_flights.loc[(ny_flights['origin_airport_id'].isin(orig_arpts)) & (ny_flights['dest_airport_id'].isin(dest_arpts))]\n",
    "print(routes['origin_airport_id'].value_counts())\n",
    "'''\n",
    "Only Chicago O'Hare airport found routes with flights from 2 NY airports.\n",
    "Other destination airports such as LAX or SFO found flights from only 1 NY airport.\n",
    "Due to data limitation, will focus on NY-> O'Hare.   \n",
    "'''"
   ]
  },
  {
   "cell_type": "code",
   "execution_count": 5,
   "metadata": {},
   "outputs": [
    {
     "data": {
      "text/plain": [
       "2018    10285\n",
       "2019     8702\n",
       "Name: fl_yr, dtype: int64"
      ]
     },
     "execution_count": 5,
     "metadata": {},
     "output_type": "execute_result"
    }
   ],
   "source": [
    "routes['fl_yr'].value_counts()\n",
    "#2019 data understandably not fully ready, will focus on 2018 for Question 1's exploratory analysis;     "
   ]
  },
  {
   "cell_type": "code",
   "execution_count": 6,
   "metadata": {},
   "outputs": [
    {
     "data": {
      "text/plain": [
       "10    1569\n",
       "08    1509\n",
       "06    1509\n",
       "07    1490\n",
       "09    1462\n",
       "11    1396\n",
       "12    1350\n",
       "Name: fl_mon, dtype: int64"
      ]
     },
     "execution_count": 6,
     "metadata": {},
     "output_type": "execute_result"
    }
   ],
   "source": [
    "#remove dups; \n",
    "routes=routes.loc[routes['fl_yr']=='2018']  \n",
    "routes.drop_duplicates(inplace=True)  \n",
    "\n",
    "#insuficient data (only 7 month in 2018);\n",
    "routes['fl_mon'].value_counts()  \n",
    "#In this route: only 2nd half year data in 2018 available. "
   ]
  },
  {
   "cell_type": "code",
   "execution_count": 7,
   "metadata": {},
   "outputs": [
    {
     "name": "stderr",
     "output_type": "stream",
     "text": [
      "/opt/anaconda3/lib/python3.7/site-packages/ipykernel_launcher.py:8: MatplotlibDeprecationWarning: Adding an axes using the same arguments as a previous axes currently reuses the earlier instance.  In a future version, a new instance will always be created and returned.  Meanwhile, this warning can be suppressed, and the future behavior ensured, by passing a unique label to each axes instance.\n",
      "  \n",
      "/opt/anaconda3/lib/python3.7/site-packages/ipykernel_launcher.py:9: MatplotlibDeprecationWarning: Adding an axes using the same arguments as a previous axes currently reuses the earlier instance.  In a future version, a new instance will always be created and returned.  Meanwhile, this warning can be suppressed, and the future behavior ensured, by passing a unique label to each axes instance.\n",
      "  if __name__ == '__main__':\n"
     ]
    },
    {
     "data": {
      "text/plain": [
       "Text(0.5, 1.0, 'Flight Volumne Distribution, by Weekday')"
      ]
     },
     "execution_count": 7,
     "metadata": {},
     "output_type": "execute_result"
    },
    {
     "data": {
      "image/png": "[encoded data removed]",
      "text/plain": [
       "<Figure size 432x288 with 1 Axes>"
      ]
     },
     "metadata": {},
     "output_type": "display_data"
    }
   ],
   "source": [
    "#(2-1) How busy is this route? Are there more flights on some days than others?  \n",
    "import matplotlib\n",
    "import numpy as np\n",
    "import matplotlib.pyplot as plt\n",
    "%matplotlib inline   \n",
    "\n",
    "routes['fl_weekday'].value_counts().plot(startangle=90, kind='pie', autopct='%1.0f%%', explode=(0, 0, 0, 0, 0, 0, 0.15), shadow=True)  \n",
    "plt.axes().set_xlabel('')    \n",
    "plt.axes().set_ylabel('')\n",
    "plt.title('Flight Volumne Distribution, by Weekday')          "
   ]
  },
  {
   "cell_type": "code",
   "execution_count": 8,
   "metadata": {},
   "outputs": [
    {
     "data": {
      "text/plain": [
       "American Airlines Inc.    2916\n",
       "United Air Lines Inc.     2734\n",
       "SkyWest Airlines Inc.     2372\n",
       "Delta Air Lines Inc.       738\n",
       "JetBlue Airways            517\n",
       "Spirit Air Lines           408\n",
       "Endeavor Air Inc.          325\n",
       "Republic Airline           275\n",
       "Name: op_carrier_airline_nm, dtype: int64"
      ]
     },
     "execution_count": 8,
     "metadata": {},
     "output_type": "execute_result"
    }
   ],
   "source": [
    "#(2-2) Which airlines provide the most flights on this route?  \n",
    "routes['op_carrier_airline_nm'].value_counts()  "
   ]
  },
  {
   "cell_type": "code",
   "execution_count": 9,
   "metadata": {},
   "outputs": [
    {
     "name": "stderr",
     "output_type": "stream",
     "text": [
      "/opt/anaconda3/lib/python3.7/site-packages/ipykernel_launcher.py:17: FutureWarning: `Series.plot()` should not be called with positional arguments, only keyword arguments. The order of positional arguments will change in the future. Use `Series.plot(kind='barh')` instead of `Series.plot('barh',)`.\n"
     ]
    },
    {
     "data": {
      "text/plain": [
       "<matplotlib.lines.Line2D at 0x12f635d90>"
      ]
     },
     "execution_count": 9,
     "metadata": {},
     "output_type": "execute_result"
    },
    {
     "data": {
      "image/png": "[encoded data removed]",
      "text/plain": [
       "<Figure size 432x288 with 1 Axes>"
      ]
     },
     "metadata": {
      "needs_background": "light"
     },
     "output_type": "display_data"
    }
   ],
   "source": [
    "#(2-3) What do delays on this route look like?  \n",
    "#Plot: departure delay rate, by airlines;\n",
    "#Real Delay defined as more than \"30 minutes\", consistent with Question 3's definition; \n",
    "routes['dep_delay_flag']=routes['dep_delay']>30 \n",
    "\n",
    "delay_df=pd.DataFrame(routes.loc[routes.dep_delay_flag==True, 'op_carrier_airline_nm'].value_counts())\n",
    "delay_df.rename(columns={'op_carrier_airline_nm': 'delay_fl'}, inplace=True)\n",
    "delay_df['op_carrier_airline_nm']=delay_df.index\n",
    "\n",
    "_temp=pd.DataFrame(routes['op_carrier_airline_nm'].value_counts())\n",
    "_temp.rename(columns={'op_carrier_airline_nm': 'total_fl'}, inplace=True)\n",
    "_temp['op_carrier_airline_nm']=_temp.index\n",
    "\n",
    "delay_df=delay_df.merge(_temp, left_on='op_carrier_airline_nm', right_on='op_carrier_airline_nm')\n",
    "delay_df['delay_rate']=delay_df['delay_fl']/delay_df['total_fl']  \n",
    "delay_df.index=delay_df['op_carrier_airline_nm']    \n",
    "delay_df['delay_rate'].plot('barh')    \n",
    "plt.ylabel('Airlines')\n",
    "plt.xlabel('Departure Delay Rate (delay>30 min)')      \n",
    "plt.title('Comparison of Departure Delay Rate, by Airlines')    \n",
    "plt.axvline(delay_df['delay_rate'].mean(), color='r', linestyle='--')"
   ]
  },
  {
   "cell_type": "code",
   "execution_count": 10,
   "metadata": {},
   "outputs": [
    {
     "name": "stderr",
     "output_type": "stream",
     "text": [
      "/opt/anaconda3/lib/python3.7/site-packages/ipykernel_launcher.py:3: FutureWarning: `Series.plot()` should not be called with positional arguments, only keyword arguments. The order of positional arguments will change in the future. Use `Series.plot(kind='barh')` instead of `Series.plot('barh',)`.\n",
      "  This is separate from the ipykernel package so we can avoid doing imports until\n"
     ]
    },
    {
     "data": {
      "text/plain": [
       "<matplotlib.lines.Line2D at 0x12fcad050>"
      ]
     },
     "execution_count": 10,
     "metadata": {},
     "output_type": "execute_result"
    },
    {
     "data": {
      "image/png": "[encoded data removed]",
      "text/plain": [
       "<Figure size 432x288 with 1 Axes>"
      ]
     },
     "metadata": {
      "needs_background": "light"
     },
     "output_type": "display_data"
    }
   ],
   "source": [
    "#Table: average delay time (minutes), by airlines;    \n",
    "avgdly=pd.DataFrame(routes.loc[routes.dep_delay_flag==True, :].groupby('op_carrier_airline_nm')['dep_delay'].mean()).sort_values(by='dep_delay')\n",
    "avgdly['dep_delay'].plot('barh')  \n",
    "plt.ylabel('Airlines')\n",
    "plt.xlabel('Minutes')    \n",
    "plt.title('Summary of Average Delayed Time, by Airlines')  \n",
    "plt.axvline(avgdly['dep_delay'].mean(), color='r', linestyle='--')"
   ]
  },
  {
   "cell_type": "code",
   "execution_count": 11,
   "metadata": {},
   "outputs": [
    {
     "name": "stderr",
     "output_type": "stream",
     "text": [
      "/opt/anaconda3/lib/python3.7/site-packages/ipykernel_launcher.py:3: FutureWarning: `Series.plot()` should not be called with positional arguments, only keyword arguments. The order of positional arguments will change in the future. Use `Series.plot(kind='bar')` instead of `Series.plot('bar',)`.\n",
      "  This is separate from the ipykernel package so we can avoid doing imports until\n"
     ]
    },
    {
     "data": {
      "text/plain": [
       "Text(0.5, 1.0, 'Summary of Average Delayed Time, by Weekday')"
      ]
     },
     "execution_count": 11,
     "metadata": {},
     "output_type": "execute_result"
    },
    {
     "data": {
      "image/png": "[encoded data removed]",
      "text/plain": [
       "<Figure size 432x288 with 1 Axes>"
      ]
     },
     "metadata": {
      "needs_background": "light"
     },
     "output_type": "display_data"
    }
   ],
   "source": [
    "#Table: average delay time (minutes), by workday;        \n",
    "avgdly2=pd.DataFrame(routes.loc[routes.dep_delay_flag==True, :].groupby('fl_weekday')['dep_delay'].mean()).sort_values(by='dep_delay')\n",
    "avgdly2['dep_delay'].plot('bar', color='grey')\n",
    "plt.ylabel('Weekday')\n",
    "plt.xlabel('Minutes')    \n",
    "plt.title('Summary of Average Delayed Time, by Weekday')      "
   ]
  },
  {
   "cell_type": "code",
   "execution_count": 12,
   "metadata": {},
   "outputs": [
    {
     "data": {
      "text/html": [
       "<div>\n",
       "<style scoped>\n",
       "    .dataframe tbody tr th:only-of-type {\n",
       "        vertical-align: middle;\n",
       "    }\n",
       "\n",
       "    .dataframe tbody tr th {\n",
       "        vertical-align: top;\n",
       "    }\n",
       "\n",
       "    .dataframe thead th {\n",
       "        text-align: right;\n",
       "    }\n",
       "</style>\n",
       "<table border=\"1\" class=\"dataframe\">\n",
       "  <thead>\n",
       "    <tr style=\"text-align: right;\">\n",
       "      <th></th>\n",
       "      <th>original airport</th>\n",
       "      <th>airline</th>\n",
       "      <th># of departure-delayed flights</th>\n",
       "      <th>total flights</th>\n",
       "      <th>delayed rate</th>\n",
       "    </tr>\n",
       "  </thead>\n",
       "  <tbody>\n",
       "    <tr>\n",
       "      <td>0</td>\n",
       "      <td>John F. Kennedy International</td>\n",
       "      <td>American Airlines Inc.</td>\n",
       "      <td>37</td>\n",
       "      <td>215</td>\n",
       "      <td>0.172093</td>\n",
       "    </tr>\n",
       "    <tr>\n",
       "      <td>1</td>\n",
       "      <td>John F. Kennedy International</td>\n",
       "      <td>Endeavor Air Inc.</td>\n",
       "      <td>71</td>\n",
       "      <td>324</td>\n",
       "      <td>0.219136</td>\n",
       "    </tr>\n",
       "    <tr>\n",
       "      <td>2</td>\n",
       "      <td>John F. Kennedy International</td>\n",
       "      <td>JetBlue Airways</td>\n",
       "      <td>68</td>\n",
       "      <td>517</td>\n",
       "      <td>0.131528</td>\n",
       "    </tr>\n",
       "    <tr>\n",
       "      <td>3</td>\n",
       "      <td>John F. Kennedy International</td>\n",
       "      <td>Republic Airline</td>\n",
       "      <td>2</td>\n",
       "      <td>10</td>\n",
       "      <td>0.200000</td>\n",
       "    </tr>\n",
       "    <tr>\n",
       "      <td>4</td>\n",
       "      <td>John F. Kennedy International</td>\n",
       "      <td>SkyWest Airlines Inc.</td>\n",
       "      <td>95</td>\n",
       "      <td>616</td>\n",
       "      <td>0.154221</td>\n",
       "    </tr>\n",
       "    <tr>\n",
       "      <td>5</td>\n",
       "      <td>LaGuardia</td>\n",
       "      <td>American Airlines Inc.</td>\n",
       "      <td>380</td>\n",
       "      <td>2701</td>\n",
       "      <td>0.140689</td>\n",
       "    </tr>\n",
       "    <tr>\n",
       "      <td>6</td>\n",
       "      <td>LaGuardia</td>\n",
       "      <td>Delta Air Lines Inc.</td>\n",
       "      <td>169</td>\n",
       "      <td>738</td>\n",
       "      <td>0.228997</td>\n",
       "    </tr>\n",
       "    <tr>\n",
       "      <td>7</td>\n",
       "      <td>LaGuardia</td>\n",
       "      <td>Republic Airline</td>\n",
       "      <td>52</td>\n",
       "      <td>265</td>\n",
       "      <td>0.196226</td>\n",
       "    </tr>\n",
       "    <tr>\n",
       "      <td>8</td>\n",
       "      <td>LaGuardia</td>\n",
       "      <td>SkyWest Airlines Inc.</td>\n",
       "      <td>427</td>\n",
       "      <td>1756</td>\n",
       "      <td>0.243166</td>\n",
       "    </tr>\n",
       "    <tr>\n",
       "      <td>9</td>\n",
       "      <td>LaGuardia</td>\n",
       "      <td>Spirit Air Lines</td>\n",
       "      <td>85</td>\n",
       "      <td>408</td>\n",
       "      <td>0.208333</td>\n",
       "    </tr>\n",
       "    <tr>\n",
       "      <td>10</td>\n",
       "      <td>LaGuardia</td>\n",
       "      <td>United Air Lines Inc.</td>\n",
       "      <td>424</td>\n",
       "      <td>2734</td>\n",
       "      <td>0.155084</td>\n",
       "    </tr>\n",
       "  </tbody>\n",
       "</table>\n",
       "</div>"
      ],
      "text/plain": [
       "                 original airport                 airline  \\\n",
       "0   John F. Kennedy International  American Airlines Inc.   \n",
       "1   John F. Kennedy International       Endeavor Air Inc.   \n",
       "2   John F. Kennedy International         JetBlue Airways   \n",
       "3   John F. Kennedy International        Republic Airline   \n",
       "4   John F. Kennedy International   SkyWest Airlines Inc.   \n",
       "5                       LaGuardia  American Airlines Inc.   \n",
       "6                       LaGuardia    Delta Air Lines Inc.   \n",
       "7                       LaGuardia        Republic Airline   \n",
       "8                       LaGuardia   SkyWest Airlines Inc.   \n",
       "9                       LaGuardia        Spirit Air Lines   \n",
       "10                      LaGuardia   United Air Lines Inc.   \n",
       "\n",
       "    # of departure-delayed flights  total flights  delayed rate  \n",
       "0                               37            215      0.172093  \n",
       "1                               71            324      0.219136  \n",
       "2                               68            517      0.131528  \n",
       "3                                2             10      0.200000  \n",
       "4                               95            616      0.154221  \n",
       "5                              380           2701      0.140689  \n",
       "6                              169            738      0.228997  \n",
       "7                               52            265      0.196226  \n",
       "8                              427           1756      0.243166  \n",
       "9                               85            408      0.208333  \n",
       "10                             424           2734      0.155084  "
      ]
     },
     "execution_count": 12,
     "metadata": {},
     "output_type": "execute_result"
    }
   ],
   "source": [
    "#(3) Compare departure delays from the airports from three NYC-area airports.      \n",
    "routes['dep_delay_flag_2']=routes['dep_delay']>30\n",
    "\n",
    "#(3-1) delay rate by airport & airline; \n",
    "_sub=routes.groupby(['origin_airport_nm', 'op_carrier_airline_nm'])['dep_delay_flag_2'].value_counts()\n",
    "_sum=_sub.sum(level=[0, 1])\n",
    "comp=pd.merge(_sub, _sum, left_index=True, right_index=True)  \n",
    "\n",
    "comp.rename(columns={'dep_delay_flag_2_x': 'num_fl', 'dep_delay_flag_2_y':'total_fl'}, inplace=True)\n",
    "comp=comp.iloc[comp.index.get_level_values('dep_delay_flag_2') == True]\n",
    "comp['dep_delay_rate_2']=comp['num_fl']/comp['total_fl']  \n",
    "\n",
    "comp['index']=comp.index    \n",
    "comp['origin_airport_nm']=comp['index'].apply(lambda x: x[0])\n",
    "comp['op_carrier_airline_nm']=comp['index'].apply(lambda x: x[1])  \n",
    "\n",
    "comp.reset_index(drop=True, inplace=True)  \n",
    "comp.drop('index', inplace=True, axis=1)   \n",
    "\n",
    "comp=comp[['origin_airport_nm', \"op_carrier_airline_nm\", \"num_fl\", \"total_fl\", \"dep_delay_rate_2\"]]  \n",
    "comp.rename(columns={'origin_airport_nm': 'original airport', 'op_carrier_airline_nm':'airline', \n",
    "                    \"num_fl\": \"# of departure-delayed flights\", \"total_fl\": \"total flights\", \n",
    "                    \"dep_delay_rate_2\":\"delayed rate\"}, inplace=True)\n",
    "comp"
   ]
  },
  {
   "cell_type": "code",
   "execution_count": 13,
   "metadata": {},
   "outputs": [
    {
     "data": {
      "text/html": [
       "<div>\n",
       "<style scoped>\n",
       "    .dataframe tbody tr th:only-of-type {\n",
       "        vertical-align: middle;\n",
       "    }\n",
       "\n",
       "    .dataframe tbody tr th {\n",
       "        vertical-align: top;\n",
       "    }\n",
       "\n",
       "    .dataframe thead th {\n",
       "        text-align: right;\n",
       "    }\n",
       "</style>\n",
       "<table border=\"1\" class=\"dataframe\">\n",
       "  <thead>\n",
       "    <tr style=\"text-align: right;\">\n",
       "      <th></th>\n",
       "      <th>original airport</th>\n",
       "      <th># of departure-delayed flights</th>\n",
       "      <th>total flights</th>\n",
       "      <th>delayed rate</th>\n",
       "    </tr>\n",
       "  </thead>\n",
       "  <tbody>\n",
       "    <tr>\n",
       "      <td>0</td>\n",
       "      <td>John F. Kennedy International</td>\n",
       "      <td>273</td>\n",
       "      <td>1682</td>\n",
       "      <td>0.162307</td>\n",
       "    </tr>\n",
       "    <tr>\n",
       "      <td>1</td>\n",
       "      <td>LaGuardia</td>\n",
       "      <td>1537</td>\n",
       "      <td>8603</td>\n",
       "      <td>0.178659</td>\n",
       "    </tr>\n",
       "  </tbody>\n",
       "</table>\n",
       "</div>"
      ],
      "text/plain": [
       "                original airport  # of departure-delayed flights  \\\n",
       "0  John F. Kennedy International                             273   \n",
       "1                      LaGuardia                            1537   \n",
       "\n",
       "   total flights  delayed rate  \n",
       "0           1682      0.162307  \n",
       "1           8603      0.178659  "
      ]
     },
     "execution_count": 13,
     "metadata": {},
     "output_type": "execute_result"
    }
   ],
   "source": [
    "# (3-2) delay rate, only by airport;\n",
    "a=routes.groupby('origin_airport_nm')['dep_delay_flag_2'].value_counts()\n",
    "b=a.sum(level=0)\n",
    "c=pd.merge(a, b, left_index=True, right_index=True)  \n",
    "c.rename(columns={'dep_delay_flag_2_x': 'num_fl', 'dep_delay_flag_2_y':'total_fl'}, inplace=True)\n",
    "\n",
    "c=c.iloc[c.index.get_level_values('dep_delay_flag_2') == True]\n",
    "c['dep_delay_rate_2']=c['num_fl']/c['total_fl']    \n",
    "\n",
    "c['index']=c.index  \n",
    "c['origin_airport_nm']=c['index'].apply(lambda x: x[0])  \n",
    " \n",
    "c.reset_index(drop=True, inplace=True)\n",
    "c.drop('index', inplace=True, axis=1)  \n",
    "\n",
    "c=c[['origin_airport_nm', \"num_fl\", \"total_fl\", \"dep_delay_rate_2\"]]  \n",
    "c.rename(columns={'origin_airport_nm': 'original airport', \"num_fl\": \"# of departure-delayed flights\", \n",
    "                     \"total_fl\": \"total flights\", \"dep_delay_rate_2\":\"delayed rate\"}, inplace=True)\n",
    "c    "
   ]
  },
  {
   "cell_type": "code",
   "execution_count": 14,
   "metadata": {},
   "outputs": [
    {
     "data": {
      "text/plain": [
       "origin_airport_nm\n",
       "John F. Kennedy International    30.204518\n",
       "LaGuardia                        25.484250\n",
       "Name: taxi_out, dtype: float64"
      ]
     },
     "execution_count": 14,
     "metadata": {},
     "output_type": "execute_result"
    }
   ],
   "source": [
    "#(3-3) average taxi-out time on runway v.s. delay rate, by airport  \n",
    "routes.groupby('origin_airport_nm')['taxi_out'].mean()\n",
    "#Kennedy, bigger airport, lower delay rate, little relevance of delay to runway time;    "
   ]
  },
  {
   "cell_type": "code",
   "execution_count": 15,
   "metadata": {},
   "outputs": [
    {
     "data": {
      "text/plain": [
       "LaGuardia                        8603\n",
       "John F. Kennedy International    1682\n",
       "Name: origin_airport_nm, dtype: int64"
      ]
     },
     "execution_count": 15,
     "metadata": {},
     "output_type": "execute_result"
    }
   ],
   "source": [
    "routes['origin_airport_nm'].value_counts()    \n",
    "#Kennedy, bigger airport, much fewer flights, data incomplete! "
   ]
  },
  {
   "cell_type": "code",
   "execution_count": 16,
   "metadata": {},
   "outputs": [],
   "source": [
    "#(4) Machine learning model to predict departure delays probability;  \n",
    "#Data Prep      \n",
    "nyfl=ny_flights.copy()  \n",
    "nyfl=nyfl.loc[~nyfl['dep_delay'].isnull(), :]      \n",
    "nyfl['dep_delay_label']=nyfl['dep_delay']>30    #can tune later if interested;\n",
    "\n",
    "nyfl['crs_dep_hr']=nyfl['crs_dep_time'].apply(lambda x: int(x[:2]))  \n",
    "nyfl['crs_arr_hr']=nyfl['crs_arr_time'].apply(lambda x: int(x[:2]))    \n",
    "\n",
    "#re-code features;   \n",
    "def hrgroup(hr):\n",
    "    if hr==24: \n",
    "        hr==0\n",
    "    if 0<=hr<=2:\n",
    "        return \"hr_0_2\"\n",
    "    elif 3<=hr<=5:\n",
    "        return \"hr_3_5\"\n",
    "    elif 6<=hr<=8:\n",
    "        return \"hr_6_8\"\n",
    "    elif 9<=hr<=11:\n",
    "        return \"hr_9_11\"\n",
    "    elif 12<=hr<=14:\n",
    "        return \"hr_12_14\"\n",
    "    elif 15<=hr<=17:\n",
    "        return \"hr_15_17\"\n",
    "    elif 18<=hr<=20:\n",
    "        return \"hr_18_20\"\n",
    "    elif 21<=hr<=23:\n",
    "        return \"hr_21_23\"  \n",
    "    \n",
    "nyfl['crs_dep_hr_group']=nyfl['crs_dep_hr'].apply(lambda x: hrgroup(x))\n",
    "nyfl['crs_arr_hr_group']=nyfl['crs_arr_hr'].apply(lambda x: hrgroup(x))\n",
    "nyfl.drop(['crs_dep_hr', 'crs_arr_hr'], axis=1, inplace=True)\n",
    "\n",
    "import math\n",
    "nyfl['log_distance']=nyfl['distance'].apply(lambda x: math.log(x))\n",
    "nyfl.drop('distance', axis=1, inplace=True)      \n",
    "\n",
    "\n",
    "#Remove features; \n",
    "    #To predict flight delay rate, assuming the flight has NOT occured yet. \n",
    "    #Can only include \"scheduled\" features (NOT \"actual\" features). \n",
    "    #Thus remove features such as air_time, dep_delay etc. below.    \n",
    "nyfl.drop(['fl_date', 'op_carrier_fl_num', 'wheels_off', 'wheels_on', 'origin_city_market', 'dest_city_market',\n",
    "           'op_carrier_airline_nm', 'origin_airport_nm', 'dest_airport_nm', 'fl_yr',  \n",
    "           'crs_dep_time', 'dep_time', 'crs_arr_time', 'arr_time', 'arr_delay', 'actual_elapsed_time',\n",
    "           'cancelled', 'diverted', 'taxi_in', 'taxi_out', 'air_time', 'dep_delay'],        \n",
    "          axis=1, inplace=True)        \n",
    "\n",
    "\n",
    "#One-hot encoding; \n",
    "def prepcate(df):      \n",
    "    scat=['op_carrier_airline_id', 'origin_airport_id', 'origin_city_market_id', 'dest_airport_id',\n",
    "         'dest_city_market_id', 'fl_weekday', 'fl_mon', 'crs_dep_hr_group', 'crs_arr_hr_group']      \n",
    "    for i in scat:  \n",
    "        df[i]=df[i].apply(lambda x: str(x))    \n",
    "        for j in df[i].unique():    \n",
    "            df[i+'_'+str(j)]=np.where(df[i]==j, 1, 0)\n",
    "        df.drop(i, axis=1, inplace=True)            \n",
    "    return df      \n",
    "nyfl=prepcate(nyfl) "
   ]
  },
  {
   "cell_type": "code",
   "execution_count": 17,
   "metadata": {},
   "outputs": [],
   "source": [
    "#train-test split; \n",
    "from sklearn import preprocessing\n",
    "from sklearn.model_selection import train_test_split        \n",
    "from sklearn.metrics import classification_report, confusion_matrix, accuracy_score    \n",
    "Y=nyfl['dep_delay_label']    \n",
    "X=nyfl.drop('dep_delay_label', axis=1)\n",
    "xtrain, xtest, ytrain, ytest = train_test_split(X, Y, test_size=0.3, random_state=1234)     "
   ]
  },
  {
   "cell_type": "code",
   "execution_count": 18,
   "metadata": {},
   "outputs": [
    {
     "data": {
      "text/plain": [
       "\"\\n#Model 1: RandomForest;     \\nfrom sklearn.ensemble import RandomForestClassifier\\n\\nrs=3456\\ndef classifier(classifier, cname, rs):\\n    model=classifier \\n    print('\\n')\\n    print(model)  \\n    model.fit(xtrain, ytrain)  \\n    pred=model.predict(xtest)\\n    tpred=model.predict(xtrain)\\n   \\n    print(cname + ' predictions with default hyparameters for Test'+'\\n')\\n    print('Accuracy')\\n    print(accuracy_score(ytest, pred, normalize=True))\\n    print(confusion_matrix(ytest, pred))\\n    print(classification_report(ytest, pred))  \\n   \\n    print(cname + ' predictions with default hyparameters for Train'+'\\n')\\n    print('Accuracy')  \\n    print(accuracy_score(ytrain, tpred, normalize=True)) \\n\\nclassifier(RandomForestClassifier(random_state=rs, n_estimators=100, class_weight='balanced', \\n                                 min_samples_split=2, verbose=0), 'RandomForest', 200) \\n\""
      ]
     },
     "execution_count": 18,
     "metadata": {},
     "output_type": "execute_result"
    }
   ],
   "source": [
    "'''\n",
    "#Model 1: RandomForest;     \n",
    "from sklearn.ensemble import RandomForestClassifier\n",
    "\n",
    "rs=3456\n",
    "def classifier(classifier, cname, rs):\n",
    "    model=classifier \n",
    "    print('\\n')\n",
    "    print(model)  \n",
    "    model.fit(xtrain, ytrain)  \n",
    "    pred=model.predict(xtest)\n",
    "    tpred=model.predict(xtrain)\n",
    "   \n",
    "    print(cname + ' predictions with default hyparameters for Test'+'\\n')\n",
    "    print('Accuracy')\n",
    "    print(accuracy_score(ytest, pred, normalize=True))\n",
    "    print(confusion_matrix(ytest, pred))\n",
    "    print(classification_report(ytest, pred))  \n",
    "   \n",
    "    print(cname + ' predictions with default hyparameters for Train'+'\\n')\n",
    "    print('Accuracy')  \n",
    "    print(accuracy_score(ytrain, tpred, normalize=True)) \n",
    "\n",
    "classifier(RandomForestClassifier(random_state=rs, n_estimators=100, class_weight='balanced', \n",
    "                                 min_samples_split=2, verbose=0), 'RandomForest', 200) \n",
    "'''"
   ]
  },
  {
   "cell_type": "code",
   "execution_count": 19,
   "metadata": {},
   "outputs": [
    {
     "name": "stderr",
     "output_type": "stream",
     "text": [
      "/opt/anaconda3/lib/python3.7/site-packages/lightgbm/__init__.py:48: UserWarning: Starting from version 2.2.1, the library file in distribution wheels for macOS is built by the Apple Clang (Xcode_8.3.3) compiler.\n",
      "This means that in case of installing LightGBM from PyPI via the ``pip install lightgbm`` command, you don't need to install the gcc compiler anymore.\n",
      "Instead of that, you need to install the OpenMP library, which is required for running LightGBM on the system with the Apple Clang compiler.\n",
      "You can install the OpenMP library by the following command: ``brew install libomp``.\n",
      "  \"You can install the OpenMP library by the following command: ``brew install libomp``.\", UserWarning)\n"
     ]
    },
    {
     "name": "stdout",
     "output_type": "stream",
     "text": [
      "Training until validation scores don't improve for 100 rounds\n",
      "[200]\tvalid_0's binary_logloss: 0.616777\n",
      "[400]\tvalid_0's binary_logloss: 0.611534\n",
      "[600]\tvalid_0's binary_logloss: 0.60874\n",
      "[800]\tvalid_0's binary_logloss: 0.606413\n",
      "[1000]\tvalid_0's binary_logloss: 0.604561\n",
      "[1200]\tvalid_0's binary_logloss: 0.602952\n",
      "[1400]\tvalid_0's binary_logloss: 0.601297\n",
      "[1600]\tvalid_0's binary_logloss: 0.599962\n",
      "[1800]\tvalid_0's binary_logloss: 0.598908\n",
      "[2000]\tvalid_0's binary_logloss: 0.597994\n",
      "[2200]\tvalid_0's binary_logloss: 0.596898\n",
      "[2400]\tvalid_0's binary_logloss: 0.595976\n",
      "[2600]\tvalid_0's binary_logloss: 0.595323\n",
      "[2800]\tvalid_0's binary_logloss: 0.594308\n",
      "Early stopping, best iteration is:\n",
      "[2871]\tvalid_0's binary_logloss: 0.593593\n"
     ]
    },
    {
     "data": {
      "text/plain": [
       "LGBMClassifier(boosting_type='gbdt', class_weight='balanced',\n",
       "               colsample_bytree=0.8, importance_type='split',\n",
       "               learning_rate=0.05, max_bin=25, max_depth=-1,\n",
       "               metric='binary_logloss', min_child_samples=5,\n",
       "               min_child_weight=0.1, min_split_gain=0.05, n_estimators=20000,\n",
       "               n_jobs=-1, num_leaves=25, objective='binary', random_state=3456,\n",
       "               reg_alpha=0.0, reg_lambda=0.0, silent=True, subsample=0.7,\n",
       "               subsample_for_bin=200000, subsample_freq=3)"
      ]
     },
     "execution_count": 19,
     "metadata": {},
     "output_type": "execute_result"
    }
   ],
   "source": [
    "#Model 2: Lightgbm;      \n",
    "import lightgbm    \n",
    "from lightgbm import LGBMClassifier  \n",
    "lgb_model = LGBMClassifier(boosting_type='gbdt', objective = \"binary\",\n",
    "                      metric = \"binary_logloss\", learning_rate = 0.05,  \n",
    "                      n_estimators = 20000,\n",
    "                      subsample_freq = 3, min_child_samples = 5,\n",
    "                      min_child_weight = 0.1, colsample_bytree = 0.8,\n",
    "                      subsample = 0.7, min_split_gain = 0.05,\n",
    "                      max_bin = 25, max_depth = -1,\n",
    "                      num_leaves = 25, class_weight = 'balanced',     \n",
    "                      random_state = 3456) \n",
    "\n",
    "lgb_model.fit(xtrain, ytrain, eval_set=[(xtest, ytest)], eval_metric=\"binary_logloss\", early_stopping_rounds=100, verbose = 200)"
   ]
  },
  {
   "cell_type": "code",
   "execution_count": 20,
   "metadata": {},
   "outputs": [
    {
     "name": "stdout",
     "output_type": "stream",
     "text": [
      "Lightgbm predictions with default hyparameters for Test\n",
      "\n",
      "Accuracy\n",
      "0.6733361643310936\n",
      "[[137627  66504]\n",
      " [ 11960  24107]]\n",
      "              precision    recall  f1-score   support\n",
      "\n",
      "       False       0.92      0.67      0.78    204131\n",
      "        True       0.27      0.67      0.38     36067\n",
      "\n",
      "    accuracy                           0.67    240198\n",
      "   macro avg       0.59      0.67      0.58    240198\n",
      "weighted avg       0.82      0.67      0.72    240198\n",
      "\n",
      "Lightgbm predictions with default hyparameters for Train\n",
      "\n",
      "Accuracy\n",
      "0.6875982450161563\n"
     ]
    }
   ],
   "source": [
    "pred_prob=lgb_model.predict(xtest)   \n",
    "pred=list(pred_prob>=0.5)\n",
    "\n",
    "tpred_prob=lgb_model.predict(xtrain)  \n",
    "tpred=list(tpred_prob>=0.5)\n",
    "\n",
    "print('Lightgbm' + ' predictions with default hyparameters for Test'+'\\n')\n",
    "print('Accuracy')\n",
    "print(accuracy_score(ytest, pred, normalize=True))\n",
    "print(confusion_matrix(ytest, pred))\n",
    "print(classification_report(ytest, pred)) \n",
    "\n",
    "print('Lightgbm' + ' predictions with default hyparameters for Train'+'\\n')\n",
    "print('Accuracy')  \n",
    "print(accuracy_score(ytrain, tpred, normalize=True))     "
   ]
  },
  {
   "cell_type": "code",
   "execution_count": 21,
   "metadata": {},
   "outputs": [
    {
     "data": {
      "text/html": [
       "<div>\n",
       "<style scoped>\n",
       "    .dataframe tbody tr th:only-of-type {\n",
       "        vertical-align: middle;\n",
       "    }\n",
       "\n",
       "    .dataframe tbody tr th {\n",
       "        vertical-align: top;\n",
       "    }\n",
       "\n",
       "    .dataframe thead th {\n",
       "        text-align: right;\n",
       "    }\n",
       "</style>\n",
       "<table border=\"1\" class=\"dataframe\">\n",
       "  <thead>\n",
       "    <tr style=\"text-align: right;\">\n",
       "      <th></th>\n",
       "      <th>0</th>\n",
       "    </tr>\n",
       "  </thead>\n",
       "  <tbody>\n",
       "    <tr>\n",
       "      <td>crs_elapsed_time</td>\n",
       "      <td>6563</td>\n",
       "    </tr>\n",
       "    <tr>\n",
       "      <td>log_distance</td>\n",
       "      <td>2994</td>\n",
       "    </tr>\n",
       "    <tr>\n",
       "      <td>fl_weekday_Sun</td>\n",
       "      <td>1481</td>\n",
       "    </tr>\n",
       "    <tr>\n",
       "      <td>fl_weekday_Mon</td>\n",
       "      <td>1468</td>\n",
       "    </tr>\n",
       "    <tr>\n",
       "      <td>fl_weekday_Tue</td>\n",
       "      <td>1465</td>\n",
       "    </tr>\n",
       "    <tr>\n",
       "      <td>fl_weekday_Sat</td>\n",
       "      <td>1447</td>\n",
       "    </tr>\n",
       "    <tr>\n",
       "      <td>fl_weekday_Wed</td>\n",
       "      <td>1434</td>\n",
       "    </tr>\n",
       "    <tr>\n",
       "      <td>fl_weekday_Thu</td>\n",
       "      <td>1389</td>\n",
       "    </tr>\n",
       "    <tr>\n",
       "      <td>fl_weekday_Fri</td>\n",
       "      <td>1356</td>\n",
       "    </tr>\n",
       "    <tr>\n",
       "      <td>fl_mon_03</td>\n",
       "      <td>1214</td>\n",
       "    </tr>\n",
       "  </tbody>\n",
       "</table>\n",
       "</div>"
      ],
      "text/plain": [
       "                     0\n",
       "crs_elapsed_time  6563\n",
       "log_distance      2994\n",
       "fl_weekday_Sun    1481\n",
       "fl_weekday_Mon    1468\n",
       "fl_weekday_Tue    1465\n",
       "fl_weekday_Sat    1447\n",
       "fl_weekday_Wed    1434\n",
       "fl_weekday_Thu    1389\n",
       "fl_weekday_Fri    1356\n",
       "fl_mon_03         1214"
      ]
     },
     "execution_count": 21,
     "metadata": {},
     "output_type": "execute_result"
    }
   ],
   "source": [
    "#feature importance from lightgbm model;    \n",
    "feat={}\n",
    "for f, i in zip(X.columns, lgb_model.feature_importances_):\n",
    "    feat[f]=i  \n",
    "i=pd.DataFrame.from_dict(feat, orient='index')  \n",
    "#Top 10 important features;         \n",
    "i.sort_values(by=0, ascending=False).iloc[:10, :]    "
   ]
  },
  {
   "cell_type": "code",
   "execution_count": 22,
   "metadata": {},
   "outputs": [
    {
     "data": {
      "text/plain": [
       "'  \\n#Summary;   \\n#(1) model selection\\nTo predict the flight delay rate, main performance focus here is on f1-score of TRUE class, instead of \"overall performance\". \\nIt\\'s preferred for the model to aggressively predict the \"True\" class, for planning purpose. \\n\\nIf without using \"class_weight=\\'balance\\' in both RandomFroest and LightGBM models, the overall performance of the model \\nseems better, but predict poorly in \"TRUE class\" (delayed ones) with recall of TRUE class close to 0. \\n\\nLightGBM (f1 score for TRUE is 0.38) is preferred over RandomForest (f1 score for TRUE is 0.26) here. \\n\\n#(2) Further improve the model  \\nPrecision/recall/F1-score for TRUE class are still low, can be further improved by adding more meaningful features such as \\nair traffic volumns, weather conditions. Current features such as airline, airport ID, origin city are too generic to \\nprovide a high-performing model. \\n\\nThe explaratory analysis (Question 1) can be improved by more completely reported data, such as more data for each month, \\ndata volumne of Kenney airport should be more than LaGuardia airport.   \\n\\nLassso selection (regulation) is not used here, due to the limited size/volume of features and model performance to improve. \\nThe model is not over-fitting yet.           \\n'"
      ]
     },
     "execution_count": 22,
     "metadata": {},
     "output_type": "execute_result"
    }
   ],
   "source": [
    "'''  \n",
    "#Summary;   \n",
    "#(1) model selection\n",
    "To predict the flight delay rate, main performance focus here is on f1-score of TRUE class, instead of \"overall performance\". \n",
    "It's preferred for the model to aggressively predict the \"True\" class, for planning purpose. \n",
    "\n",
    "If without using \"class_weight='balance' in both RandomFroest and LightGBM models, the overall performance of the model \n",
    "seems better, but predict poorly in \"TRUE class\" (delayed ones) with recall of TRUE class close to 0. \n",
    "\n",
    "LightGBM (f1 score for TRUE is 0.38) is preferred over RandomForest (f1 score for TRUE is 0.26) here. \n",
    "\n",
    "#(2) Further improve the model  \n",
    "Precision/recall/F1-score for TRUE class are still low, can be further improved by adding more meaningful features such as \n",
    "air traffic volumns, weather conditions. Current features such as airline, airport ID, origin city are too generic to \n",
    "provide a high-performing model. \n",
    "\n",
    "The explaratory analysis (Question 1) can be improved by more completely reported data, such as more data for each month, \n",
    "data volumne of Kenney airport should be more than LaGuardia airport.   \n",
    "\n",
    "Lassso selection (regularization) is not used here, due to the limited size/volume of features and model performance to improve. \n",
    "The model is not over-fitting yet.           \n",
    "'''"
   ]
  },
  {
   "cell_type": "code",
   "execution_count": 1,
   "metadata": {},
   "outputs": [
    {
     "data": {
      "text/plain": [
       "array([0, 1, 3, 1, 6])"
      ]
     },
     "execution_count": 1,
     "metadata": {},
     "output_type": "execute_result"
    }
   ],
   "source": [
    "import numpy as np\n",
    "y=[1, 2, 2, 2, 3, 4, 4, 4, 4, 4, 4]\n",
    "np.bincount(y)"
   ]
  },
  {
   "cell_type": "code",
   "execution_count": 6,
   "metadata": {},
   "outputs": [
    {
     "name": "stdout",
     "output_type": "stream",
     "text": [
      "Bincount output  : \n",
      "  [1 1 3 1 1 5]\n",
      "size of bin :  6 \n",
      "\n"
     ]
    }
   ],
   "source": [
    "array2 = [0, 1, 3, 5, 5, 5, 4, 5, 5, 2, 2, 2] \n",
    "bin = np.bincount(array2) \n",
    "print(\"Bincount output  : \\n \", bin) \n",
    "print(\"size of bin : \", len(bin), \"\\n\") "
   ]
  },
  {
   "cell_type": "code",
   "execution_count": 8,
   "metadata": {},
   "outputs": [
    {
     "data": {
      "text/plain": [
       "Counter({0: 1, 1: 1, 3: 1, 5: 5, 4: 1, 2: 3})"
      ]
     },
     "execution_count": 8,
     "metadata": {},
     "output_type": "execute_result"
    }
   ],
   "source": [
    "import collections\n",
    "collections.Counter(array2)"
   ]
  },
  {
   "cell_type": "code",
   "execution_count": 9,
   "metadata": {},
   "outputs": [
    {
     "data": {
      "text/plain": [
       "12"
      ]
     },
     "execution_count": 9,
     "metadata": {},
     "output_type": "execute_result"
    }
   ],
   "source": [
    "len(array2)"
   ]
  },
  {
   "cell_type": "code",
   "execution_count": 10,
   "metadata": {},
   "outputs": [
    {
     "data": {
      "text/plain": [
       "array([1, 1, 3, 1, 1, 5])"
      ]
     },
     "execution_count": 10,
     "metadata": {},
     "output_type": "execute_result"
    }
   ],
   "source": [
    "np.bincount(array2)"
   ]
  },
  {
   "cell_type": "code",
   "execution_count": null,
   "metadata": {},
   "outputs": [],
   "source": []
  }
 ],
 "metadata": {
  "kernelspec": {
   "display_name": "Python 3",
   "language": "python",
   "name": "python3"
  },
  "language_info": {
   "codemirror_mode": {
    "name": "ipython",
    "version": 3
   },
   "file_extension": ".py",
   "mimetype": "text/x-python",
   "name": "python",
   "nbconvert_exporter": "python",
   "pygments_lexer": "ipython3",
   "version": "3.7.4"
  }
 },
 "nbformat": 4,
 "nbformat_minor": 2
}
